{
 "cells": [
  {
   "cell_type": "code",
   "execution_count": 1,
   "metadata": {},
   "outputs": [],
   "source": [
    "import wikipediaapi\n",
    "from urllib.parse import unquote"
   ]
  },
  {
   "cell_type": "code",
   "execution_count": 2,
   "metadata": {},
   "outputs": [
    {
     "name": "stdout",
     "output_type": "stream",
     "text": [
      "2008 Chinese winter storms\n"
     ]
    }
   ],
   "source": [
    "wiki_wiki = wikipediaapi.Wikipedia(\n",
    "    user_agent='ImpactDB (chanjuan@kth.se)',\n",
    "    language='en',\n",
    "    extract_format=wikipediaapi.ExtractFormat.WIKI\n",
    ")\n",
    "\n",
    "# NOTE: use urllib.parse.unquote() to decode URL-encoded strings\n",
    "# p_wiki = wiki_wiki.page(unquote(\"December_1992_nor%27easter\"))\n",
    "p_wiki = wiki_wiki.page(unquote(\"2008_Chinese_winter_storms\"))\n",
    "\n",
    "# NOTE: somehow you have to get the text first then you can have a title with not underscore\n",
    "text = p_wiki.text\n",
    "print(p_wiki.title)"
   ]
  },
  {
   "cell_type": "code",
   "execution_count": 3,
   "metadata": {},
   "outputs": [
    {
     "name": "stdout",
     "output_type": "stream",
     "text": [
      "The 2008 Chinese winter storms (2008年中国雪灾、2008年中国南方雪灾) were a series of winter storm events that affected large portions of southern and central China, where it does not usually snow severely or extensively, starting from 25 January 2008, until 6 February 2008. The systems affected most of the area with heavy snows, ice, and cold temperatures causing extensive damage and transportation disruption for several thousand travelers. It became China's worst winter weather in half a century. According to some media sources, the storms were directly responsible for at least 129 deaths.\n",
      "\n",
      "Cold snap and blizzard\n",
      "The severe winter events started on 10 January when a large dome of cold air enveloped most parts of China, causing much precipitation in the form of heavy snow west of the coastal areas, where the temperature dropped to slightly below 0 °C (32 °F). The provinces of Hunan, Hubei, Henan, Shandong, Jiangsu, Anhui, and the municipality of Shanghai were hardest hit. Some received their worst snowstorms in seventeen years while some experienced their worst in five decades. After the first wave of precipitation had passed, the snow continued to fall for several days, accompanied by bitterly cold weather.Snow was even reported in the country's largest true desert, the Taklamakan, where the snow and record low temperatures near −25 °C (−13 °F) lasted 11 consecutive days and killed livestock. At one point, the temperature dropped to −32 °C (−26 °F), breaking the January 2006 record of −26.1 °C (−15.0 °F). However, the historical temperature series in this observatory is very short (started in 1996). The snow depth exceeded 4 centimetres (1.6 in) at times in the center of the desert according to the Tazhong Observatory. According to Xinhua, it was the first time that snow covered the entire desert simultaneously.\n",
      "\n",
      "Causes\n",
      "According to scientists at China's National Climate Center and the United Nations' Intergovernmental Panel on Climate Change (IPCC), these winter storms in China have been mainly related to abnormal atmospheric circulation and La Niña, and are not directly linked to climate change. The China Meteorological Administration mentioned that the 2007-08 winter was the coldest recorded across the country since 1986-87, with one month during the winter storm event that was 2.5 degrees Celsius below normal.\n",
      "\n",
      "Effects\n",
      "Damage\n",
      "The snowstorm caused extensive damage to many low-rise buildings, the roofs of which collapsed, killing occupants inside. It was estimated that about 223,000 homes were destroyed and 862,000 others were damaged. CNN also reported that a 500 meter-long auto plant in Xiangtan had its entire roof collapse.The power system of China was also severely affected by adverse conditions. Widespread power outages were reported. In Chenzhou, which has a population of 4.6 million, it was reported that the entire city had no power or water for nearly two weeks, including government buildings and hospitals, while telecommunications cables and Internet networks were also damaged. In Fuzhou, Jiangxi, it was reported that the city lost power for about 3 weeks. At one point, seventeen of the thirty-one provinces and autonomous regions of China had to endure reduced power supplies. Beginning 1 February, all of Shanghai's skyline night lights were shut off to support relief efforts and were not resumed until the storm was declared officially over. In Guizhou, officials said it could take up to five months to mend the power grid fully. Xinhua reported that electricity across most of the 170 worst-hit counties was restored by the Chinese New Year. Coal reserves were also down to emergency levels and stockpiles were only sufficient for eight days of power generation.The snowstorm also damaged water supply equipment. For instance, in Wuhan, up to 100,000 people were out of running water when several water pipes burst, cutting the supply to local households. In the Guangxi region, about 239,000 were also having problems accessing drinking water. Moreover, during the first week, there were significant mandatory evacuations, and an estimated 827,000 people were evacuated across fourteen provinces, affecting a total population of about 78 million. Over two weeks, according to Xinhua, 1.8 million residents were relocated elsewhere.\n",
      "In addition, 870,000 pigs, 450,000 sheep, and 85,000 head of cattle were killed by the storm. In addition, 18,600,000 acres (75,000 km2) of forest were destroyed, including  6,800,000 acres (28,000 km2) of bamboo, 11,500,000 acres (47,000 km2) of wood, and 15,000 acres (61 km2) of saplings. The freak storms were especially painful because they hit warmer parts of China that have little experience with snow. Many communities lacked the necessary equipment to handle the heavy snowfall.\n",
      "\n",
      "Transportation\n",
      "Transportation was also heavily affected as the storms hit during the busiest travelling season of the year, Chunyun, preceding the Lunar New Year. Nearly 180 million people, more than the population of Russia, travel throughout the country during the holiday. According to Xinhua, in early February, millions of Chinese were travelling from the major cities to the countryside to celebrate the Spring Festival, a traditional celebration where the Chinese people return to their families, which fell on 7 February that year.\n",
      "\n",
      "Railway\n",
      "Heavy snow damaged the Jingguang railway from Beijing to Guangzhou. Tens of thousands of people (on occasion as many as 500,000 to 800,000 at once) were left stranded at several railway stations across southern China, including Guangzhou railway station. It was estimated that nearly 6 million railway passengers in total were stranded during the period while about 8,000 cargo trains were delayed. Backlogs at that station where people were waiting desperately to return home lasted several days. Many travelers took refuge in an emergency shelter at the China Import and Export Fair exhibition center where at times the mass of people was about the size of three to four entire football fields. Goods were distributed to stranded travelers, including free water bottles and lunch boxes of rice, chicken legs, and cabbages sold at about a dollar each.Red banners were installed at one station encouraging some travelers to abandon their travel plans, and nearly half a million cancelled their trips after lengthy waits. Xinhua reported that 11 million migrant workers in the Guangdong area received ticket refunds. Most of the rail service resumed on 31 January, but heavy fog on 3 February caused further delays, particularly in Hunan. The lengthy delays occasionally caused clashes between travelers, police, and soldiers.\n",
      "\n",
      "Highway\n",
      "Several main highways including in Shanxi and Henan as well as Jingzhu Expressway, the main highway connecting the capital Beijing and Guangdong province, were shut down. Seven of the eight highways connecting Hunan and Guangdong were closed, and all public highways in Anhui were closed. The road closures disrupted the transportation of goods across several areas of the country where there were concerns of significant food shortage as the storm also did significant damage to crops.\n",
      "\n",
      "Water transport\n",
      "Water transportation was also affected as 10 boats at the Shanghai port which contained goods were stuck and unable to unload because of the snow.\n",
      "\n",
      "Airport\n",
      "About 60,000 bus riders were stranded on various highways, and 19 major airports in 10 cities were also closed at one point. 10,000 at Baiyun Airport in Guangzhou were stranded after 55 flights were cancelled. In total, about 3,250 flights were cancelled and another 5,550 were delayed. All provincial bus services in Jiangxi were halted. The Chinese Public Safety Ministry mentioned that about 1 million police officers were dispatched to keep the roadways open but numerous trucks were stranded in many areas. 100 diesel locomotives were also dispatched to get stranded trains back into service.\n",
      "\n",
      "Fatalities\n",
      "According to CNN, 63 were killed as of 31 January due to the effects of the storm, many of them because of the cold or collapsed roofs. The toll later rose to at least 107, according to Xinhua. Among the fatalities, 11 were killed in a bus accident in Anhui in which the bus flipped into a ditch on January 21. Another crash on 28 January killed at least 25 when a bus plunged into an icy road near Zunyi City. Three electricians were killed in Hunan while attempting to remove snow and ice from power lines and were named \"revolutionary martyrs\" by the government. As there was a gradual restoration of train services, stampedes killed at least one person in Guangzhou. Chinese officials mentioned that medical teams treated about 200 000 sick and injured people while 60 died from the cold. 11 electricians were also killed while restoring power across the country, but it wasn't clear if they were included in the official death toll of 60 people killed in accidents and building collapses blamed on the storms.\n",
      "\n",
      "Economic impact and costs\n",
      "The Chinese economy, which has experienced rapid growth over the past thirty years, was also affected by the winter event. According to the BBC, the country's civil affairs ministry estimated that the costs to the country's economy were about 54 billion Chinese yuan but the cost rose to 80 billion yuan as of February 7. Damage estimates as of February 13 were at about 111 billion yuan. Insurance companies across the country received tens of thousands of compensation cases including half a million from the hardest-hit regions.Analysts also mentioned that extensive loss of crops (of over 40,000 km²) including fresh vegetables and fruit resulted in substantial inflation of food prices. At least 11 provinces reported significant price increases after the loss of millions of crops. The price for box lunches increased fivefold across many areas in the aftermath. During the month of January, the country's producer price index hit a three-year high with a rise of 6.1%, including a nearly 30% surge in crude prices, nearly 9% in fuel, raw materials, and power prices, and a 7 to 10% increase in diesel oil, kerosene, and gasoline prices. In addition, food prices climbed by 10% to as much as 18% during the month and significantly affected the Consumer Price Index (CPI). The inflation rate itself reached 7.1%, the highest since September 1996 when it hit 7.4%.In addition, productivity at numerous factories was affected. Among them, steel and aluminum production was scaled back due to a significant shortage of raw materials, and a loss of production of about 50,000 tonnes of lead and zinc was forecasted in Hunan. Telecom companies had significant repair costs as about 10,000 kilometers of lines were affected. The Ministry of Information Industry mentioned that this has affected 33 million users and cost at least 80 million yuan up until 27 January. Other sectors affected were hotels, airlines, and auto sales while other businesses had a disruption in the supply of products because of transportation delays. The Chinese government mentioned that the storm would not have a significant long-term effect on the general economy but would not be without significant short-term problems.The winter weather may have been responsible for a 7% drop in the Shanghai Composite Index due to concerns about the effects of transport breakdowns and power shortages. However, the storms happened at the same time as significant worldwide stock market volatility was occurring due to concerns of a recession in the United States. Energy-related stocks rose as much as 23% due to the rise in profits because of the weather woes.\n",
      "\n",
      "Government response\n",
      "The winter storms marked the largest national mass mobilization since the 2003 SARS crisis and are comparable in size to the relief efforts of the 1998 Yangtze River Floods. Chinese Premier Wen Jiabao issued an apology to citizens regarding the situation in a publicly-televised appearance at a railway station in Changsha, Hunan. He mentioned that the electrical system would be the first to be fixed before restoring normal train operations for Lunar New Year holiday travelers. The severe weather also led to an emergency meeting of the Politburo Standing Committee of the Chinese Communist Party, chaired by General Secretary Hu Jintao, to discuss ways in order to control the situation.About 300,000 troops and 1.1 million reservists were deployed to assist relief efforts and snow removal across various parts of affected regions. The government also announced a $700 million (2008 USD) plan for helping farmers who had their crops destroyed by the winter weather. In addition, the government spent over 330 million yuan for local disaster relief operations. On 1 February, Premier Wen held a State Council meeting to discuss matters related to the snowstorms, and immediately afterward flew out to Hunan to inspect relief efforts. General Secretary and President Hu visited various coal mines to urge them to help end power shortages.There were also reports that China would invest significantly in better forecasting and cooperation between weather departments in the event of future storms as there were reports of criticism of the weather agencies. According to the China Meteorological Administration, there are plans to invest nearly 2 billion yuan (US$300 million) for the improvement of the weather forecasting work, which was reportedly approved by the State Council.In addition, several weather experts from the meteorological office said that the country was not properly prepared to face a winter weather event of this magnitude. Some had praised northern parts of the country for their emergency plans in unusual weather. but have criticized those from the southern parts. The Chinese Meteorological Administration also added that officials were not expecting such a lengthy episode of severe winter weather with an extensive impact across a large area.\n",
      "\n",
      "Foreign and interior aid\n",
      "The Red Cross Society of China reported that they received at least 60 million yuan in donations and provided donations of food, medicine, quilts, coats, and tents. In addition, some other events, including an opera performance, raised additional funds for the areas affected. In addition, several foreign countries across the world had offered monetary assistance for the relief efforts.\n",
      "\n",
      " Mongolian government has offered US$43,000 in aid for snow disaster relief.\n",
      " Singaporean government pledged US$500,000 in emergency aid to China's foreign ministry.\n",
      " Syrian government pledged US$100,000 in emergency aid to China.\n",
      " United States government has said it will give US$150,000 in emergency aid to China via the Chinese Red Cross.\n",
      " Hong Kong and  Macau donated a significant amount to the relief crisis. Local newspapers in the Special administrative region tried to increase the people's awareness of donations.  On March 7, 2008, the PRC paramount leader Hu Jintao publicly responded and thanked the region in a 15-minute speech.\n",
      "\n",
      "See also\n",
      "Winter storms of 2007-08\n",
      "\n",
      "References\n",
      "External links\n",
      "\n",
      "Images of the winter events (via BBC)\n"
     ]
    }
   ],
   "source": [
    "print(text)"
   ]
  },
  {
   "cell_type": "code",
   "execution_count": 4,
   "metadata": {},
   "outputs": [
    {
     "name": "stdout",
     "output_type": "stream",
     "text": [
      "2008_Chinese_winter_storms\n"
     ]
    }
   ],
   "source": [
    "p = wiki_wiki.page(\"2008_Chinese_winter_storms\")\n",
    "print(p.title)"
   ]
  }
 ],
 "metadata": {
  "kernelspec": {
   "display_name": ".venv",
   "language": "python",
   "name": "python3"
  },
  "language_info": {
   "codemirror_mode": {
    "name": "ipython",
    "version": 3
   },
   "file_extension": ".py",
   "mimetype": "text/x-python",
   "name": "python",
   "nbconvert_exporter": "python",
   "pygments_lexer": "ipython3",
   "version": "3.8.10"
  },
  "orig_nbformat": 4
 },
 "nbformat": 4,
 "nbformat_minor": 2
}
