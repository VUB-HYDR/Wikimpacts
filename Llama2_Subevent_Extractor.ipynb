{
 "cells": [
  {
   "cell_type": "code",
   "execution_count": null,
   "metadata": {},
   "outputs": [],
   "source": [
    "import os\n",
    "\n",
    "# Set CUDA_VISIBLE_DEVICES to a specific GPU, e.g., '0' for the first GPU\n",
    "# os.environ[\"CUDA_DEVICE_ORDER\"] = \"PCI_BUS_ID\"\n",
    "os.environ['CUDA_VISIBLE_DEVICES'] = '1'\n",
    "\n",
    "# To disable CUDA from seeing any GPUs, set it to an empty string\n",
    "# os.environ['CUDA_VISIBLE_DEVICES'] = ''\n",
    "\n",
    "# # TODO: set your huggingface cache directory. For dgxrise cluster, download large models to raid/ instead of home/ directory\n",
    "# os.environ[\"HF_HOME\"] = \"\""
   ]
  },
  {
   "cell_type": "code",
   "execution_count": null,
   "metadata": {},
   "outputs": [],
   "source": [
    "from langchain.chains.sequential import SequentialChain, SimpleSequentialChain\n",
    "from langchain.chains import LLMChain\n",
    "from langchain.memory import ConversationBufferMemory\n",
    "from langchain.prompts import PromptTemplate\n",
    "from langchain_community.llms.huggingface_pipeline import HuggingFacePipeline\n",
    "from datetime import datetime\n",
    "import torch\n",
    "from transformers import AutoModel, pipeline, AutoTokenizer, AutoModelForCausalLM\n",
    "import pandas as pd\n"
   ]
  },
  {
   "cell_type": "code",
   "execution_count": null,
   "metadata": {},
   "outputs": [],
   "source": [
    "def init_model():\n",
    "\n",
    "\n",
    "    # TODO: set your huggingface access token\n",
    "    access_token = ''\n",
    "\n",
    "    tokenizer = AutoTokenizer.from_pretrained(\"meta-llama/Llama-2-7b-chat-hf\", token=access_token)\n",
    "\n",
    "    model = AutoModelForCausalLM.from_pretrained(\"meta-llama/Llama-2-7b-chat-hf\",\n",
    "                                                 device_map='auto',\n",
    "                                                 torch_dtype=torch.float16,\n",
    "                                                 load_in_4bit=True,\n",
    "                                                 bnb_4bit_quant_type=\"nf4\",\n",
    "                                                 bnb_4bit_compute_dtype=torch.float16,\n",
    "                                                 token=access_token)\n",
    "\n",
    "    pipe = pipeline(\"text-generation\",\n",
    "                    model=model,\n",
    "                    tokenizer=tokenizer,\n",
    "                    torch_dtype=torch.float16,\n",
    "                    device_map=\"auto\",\n",
    "                    max_new_tokens=5000,\n",
    "                    do_sample=True,\n",
    "                    top_k=1,\n",
    "                    num_return_sequences=1,\n",
    "                    eos_token_id=tokenizer.eos_token_id\n",
    "                    )\n",
    "\n",
    "    llm = HuggingFacePipeline(pipeline=pipe, model_kwargs={'temperature': 0.7, 'max_length': 5000, 'top_k': 1})\n",
    "\n",
    "    return llm"
   ]
  },
  {
   "cell_type": "code",
   "execution_count": null,
   "metadata": {},
   "outputs": [],
   "source": [
    "llama2 = init_model()"
   ]
  },
  {
   "cell_type": "code",
   "execution_count": null,
   "metadata": {},
   "outputs": [],
   "source": [
    "subevent_prompt_template = \"\"\"\n",
    "**Article Text:**\n",
    "'On December 29, 2007, a powerful extratropical disturbance developed over eastern Siberia, which emerged into the northwest Pacific, and moved to the Aleutian Islands as a well-defined low by January 3. On January 2, another extratropical disturbance developed within a well-defined trough of low pressure, in the northeast Pacific Ocean. On January 3, the 1st storm system approached the northern part of the West Coast, powered by a Pineapple Express atmospheric river, resulting in heavy downpours of rain and strong gusts across much of the Western Seaboard. Late on January 3, the 2nd storm system in the Gulf of Alaska split, with the 3rd, new storm to the south usurping the majority of the moisture of the 2nd system.'\n",
    "\n",
    " The article above described a climate change event that consists of the following subevents, each subevent is identified by a unique combination of date and location.\n",
    "```\n",
    "[\n",
    "  {{\n",
    "    \"date\": \"December 29, 2007\",\n",
    "    \"location\": \"Eastern Siberia\",\n",
    "    \"peril(s)\": [\"Extratropical disturbance\"]\n",
    "  }},\n",
    "  {{\n",
    "    \"date\": \"January 2\",\n",
    "    \"location\": \"Northeast Pacific Ocean\",\n",
    "    \"peril(s)\": [\"Extratropical disturbance\"]\n",
    "  }},\n",
    "  {{\n",
    "    \"date\": \"January 3\",\n",
    "    \"location\": \"Northern part of the West Coast\",\n",
    "    \"peril(s)\": [\"Heavy rain\", \"Strong gusts\", \"Pineapple Express atmospheric river\"]\n",
    "  }},\n",
    "  {{\n",
    "    \"date\": \"Late on January 3\",\n",
    "    \"location\": \"Gulf of Alaska\",\n",
    "    \"peril(s)\": [\"Storm split\", \"Moisture usurpation\"]\n",
    "  }}\n",
    "]\n",
    "```\n",
    "**Article Text:**\n",
    "{article}\n",
    "\n",
    "The article above described a climate change event that consists of the following subevents, each subevent is identified by a unique combination of date and location.\n",
    "```\n",
    "[\n",
    "  {{\n",
    "    \"date\": \n",
    "\"\"\""
   ]
  },
  {
   "cell_type": "code",
   "execution_count": null,
   "metadata": {},
   "outputs": [],
   "source": [
    "wiki_input = \"\"\"The 2008 Queensland storms were a series of three thunderstorms that struck South East Queensland, Australia. The first storm hit on 16 November 2008 and was followed by two further storms on 19 and 20 November. The storms resulted in 2 fatalities.\n",
    "\n",
    "Background\n",
    "First incident\n",
    "Winds reached 130 kilometres (81 mi)/h,[2] equivalent to a Category 3 cyclone. Electricity was cut to about 230,000 homes and about 4,000 homes were left in need of serious repair, and at least 30 houses were beyond repair. Some of the worst hit areas included The Gap, Kenmore, Arana Hills and Albany Creek. Forecasters at the Bureau of Meteorology rated the storm the worst to hit south-east Queensland since 2004 & The Biggest to The South east Queensland region since 1985.[3]\n",
    "\n",
    "Second incident\n",
    "Torrential rain affected areas of Brisbane, Ipswich and Toowoomba, with rainfall reaching more than 250 mm in some locations. The Ipswich and Marburg areas were the worst affected, whilst four homes in inner-city Paddington were unroofed. The Inner City Bypass was flooded and forced to close, as was the Moggill Ferry.\n",
    "\n",
    "Third incident\n",
    "Blackwater, near Emerald in Central Queensland, was hit hard by the third storm, with 20 houses sustaining roof damage and up to 100 more were damaged in some way. Gregory MP Vaughan Johnson said the storm was terrifying. He said he was driving to an appointment when the storm slammed into Blackwater, forcing him to turn back to Emerald. Hail was described as the size of golf balls and witnesses saw a lot of damage.\"\"\""
   ]
  },
  {
   "cell_type": "code",
   "execution_count": null,
   "metadata": {},
   "outputs": [],
   "source": [
    "subevent_prompt = PromptTemplate(template=subevent_prompt_template, input_variables=[\"article\"])\n",
    "subevent_chain = LLMChain(llm=llama2, prompt=subevent_prompt, output_key=\"subevent\")"
   ]
  },
  {
   "cell_type": "code",
   "execution_count": null,
   "metadata": {},
   "outputs": [],
   "source": [
    "# subevent_response = subevent_chain.run(wiki_input)\n",
    "# print(subevent_response)"
   ]
  },
  {
   "cell_type": "code",
   "execution_count": null,
   "metadata": {},
   "outputs": [],
   "source": [
    "location_prompt_template=\"\"\"\n",
    "**Article Text:**\n",
    "'On December 29, 2007, a powerful extratropical disturbance developed over eastern Siberia, which emerged into the northwest Pacific, and moved to the Aleutian Islands as a well-defined low by January 3. On January 2, another extratropical disturbance developed within a well-defined trough of low pressure, in the northeast Pacific Ocean. On January 3, the 1st storm system approached the northern part of the West Coast, powered by a Pineapple Express atmospheric river, resulting in heavy downpours of rain and strong gusts across much of the Western Seaboard. Late on January 3, the 2nd storm system in the Gulf of Alaska split, with the 3rd, new storm to the south usurping the majority of the moisture of the 2nd system.'\n",
    "\n",
    "The article above mentioned the following locations:\n",
    "- \"estern Siberia\"\n",
    "- \"northwest Pacific\"\n",
    "- \"Aleutian Islands\"\n",
    "- \"northeast Pacific Ocean\"\n",
    "- \"northern part of the West Coast\"\n",
    "- \"western Seaboard\"\n",
    "- \"Gulf of Alaska\"\n",
    "\n",
    "\n",
    "**Article Text:**\n",
    "{article}\n",
    "\n",
    "The article above mentioned the following locations:\n",
    "- \"\n",
    "\"\"\""
   ]
  },
  {
   "cell_type": "code",
   "execution_count": null,
   "metadata": {},
   "outputs": [],
   "source": [
    "location_prompt = PromptTemplate(template=location_prompt_template, input_variables=[\"article\"])\n",
    "location_chain = LLMChain(llm=llama2, prompt=location_prompt, output_key=\"location\")"
   ]
  },
  {
   "cell_type": "code",
   "execution_count": null,
   "metadata": {},
   "outputs": [],
   "source": [
    "# location_response = location_chain.run(wiki_input)\n",
    "# print(location_response)"
   ]
  },
  {
   "cell_type": "code",
   "execution_count": null,
   "metadata": {},
   "outputs": [],
   "source": [
    "subevent_cont_prompt_template=\"\"\"\n",
    "**Article Text:**\n",
    "'On December 29, 2007, a powerful extratropical disturbance developed over eastern Siberia, which emerged into the northwest Pacific, and moved to the Aleutian Islands as a well-defined low by January 3. On January 2, another extratropical disturbance developed within a well-defined trough of low pressure, in the northeast Pacific Ocean. On January 3, the 1st storm system approached the northern part of the West Coast, powered by a Pineapple Express atmospheric river, resulting in heavy downpours of rain and strong gusts across much of the Western Seaboard. Late on January 3, the 2nd storm system in the Gulf of Alaska split, with the 3rd, new storm to the south usurping the majority of the moisture of the 2nd system.'\n",
    "\n",
    "The article above described a climate change event that consists of the following subevents, with a location span of\n",
    "- \"estern Siberia\"\n",
    "- \"northwest Pacific\"\n",
    "- \"Aleutian Islands\"\n",
    "- \"northeast Pacific Ocean\"\n",
    "- \"northern part of the West Coast\"\n",
    "- \"western Seaboard\"\n",
    "- \"Gulf of Alaska\"\n",
    "\n",
    "```\n",
    "[\n",
    "  {{\n",
    "    \"date\": \"December 29, 2007\",\n",
    "    \"location\": \"Eastern Siberia\",\n",
    "    \"peril(s)\": [\"Extratropical disturbance\"]\n",
    "  }},\n",
    "  {{\n",
    "    \"date\": \"January 2\",\n",
    "    \"location\": \"Northeast Pacific Ocean\",\n",
    "    \"peril(s)\": [\"Extratropical disturbance\"]\n",
    "  }},\n",
    "  {{\n",
    "    \"date\": \"January 3\",\n",
    "    \"location\": \"Northern part of the West Coast\",\n",
    "    \"peril(s)\": [\"Heavy rain\", \"Strong gusts\", \"Pineapple Express atmospheric river\"]\n",
    "  }},\n",
    "  {{\n",
    "    \"date\": \"Late on January 3\",\n",
    "    \"location\": \"Gulf of Alaska\",\n",
    "    \"peril(s)\": [\"Storm split\", \"Moisture usurpation\"]\n",
    "  }}\n",
    "]\n",
    "```\n",
    "**Article Text:**\n",
    "{article}\n",
    "\n",
    "The article above described a climate change event that consists of the following subevents, with a location span of\n",
    "- \"{location}\n",
    "```\n",
    "[\n",
    "  {{\n",
    "    \"date\": \n",
    "\"\"\""
   ]
  },
  {
   "cell_type": "code",
   "execution_count": null,
   "metadata": {},
   "outputs": [],
   "source": [
    "subevent_cont_prompt = PromptTemplate(template=subevent_cont_prompt_template, input_variables=[\"article\", \"location\"])\n",
    "subevent_cont_chain = LLMChain(llm=llama2, prompt=subevent_cont_prompt, output_key=\"subevent_cont\")\n",
    "sequential_chain = SequentialChain(chains=[location_chain, subevent_cont_chain], input_variables=[\n",
    "                                   \"article\"], output_variables=[\"location\", \"subevent_cont\"])"
   ]
  },
  {
   "cell_type": "code",
   "execution_count": null,
   "metadata": {},
   "outputs": [],
   "source": [
    "results = sequential_chain({\"article\": wiki_input})\n",
    "print(results[\"location\"])\n",
    "print(\"=\"*20)\n",
    "print(results[\"subevent_cont\"])"
   ]
  }
 ],
 "metadata": {
  "kernelspec": {
   "display_name": ".venv",
   "language": "python",
   "name": "python3"
  },
  "language_info": {
   "codemirror_mode": {
    "name": "ipython",
    "version": 3
   },
   "file_extension": ".py",
   "mimetype": "text/x-python",
   "name": "python",
   "nbconvert_exporter": "python",
   "pygments_lexer": "ipython3",
   "version": "3.8.10"
  },
  "orig_nbformat": 4
 },
 "nbformat": 4,
 "nbformat_minor": 2
}
