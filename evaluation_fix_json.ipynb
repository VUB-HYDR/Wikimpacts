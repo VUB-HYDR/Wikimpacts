{
 "cells": [
  {
   "cell_type": "code",
   "execution_count": 1,
   "metadata": {},
   "outputs": [],
   "source": [
    "import pandas as pd\n",
    "\n",
    "pd.set_option(\"display.max_rows\", 100)\n",
    "pd.set_option(\"display.max_colwidth\", 100)\n",
    "pd.set_option('display.max_columns', None)"
   ]
  },
  {
   "cell_type": "code",
   "execution_count": 2,
   "metadata": {},
   "outputs": [],
   "source": [
    "damage_file = \"Database/raw/response_wiki_GPT4_0507_total_damage_100events.json\"\n",
    "deaths_injuries_file = \"Database/raw/response_wiki_GPT4_20240508_fullrun_100events_structured_whole_text.json\""
   ]
  },
  {
   "cell_type": "code",
   "execution_count": 6,
   "metadata": {},
   "outputs": [],
   "source": [
    "damage = pd.read_json(damage_file)\n",
    "deaths_injuries = pd.read_json(deaths_injuries_file)"
   ]
  },
  {
   "cell_type": "code",
   "execution_count": 7,
   "metadata": {},
   "outputs": [
    {
     "name": "stdout",
     "output_type": "stream",
     "text": [
      "Index(['Event_Name', 'Source', 'Event_ID', 'Total_Summary_Damage',\n",
      "       'Specific_Instance_Per_Country_Damage'],\n",
      "      dtype='object')\n",
      "Index(['Event_Name', 'Source', 'Event_ID', 'Start_Date', 'End_Date',\n",
      "       'Time_with_Annotation', 'Main_Event',\n",
      "       'Main_Event_Assessment_With_Annotation', 'Country',\n",
      "       'Country_with_Annotation', 'Total_Summary_Death',\n",
      "       'Specific_Instance_Per_Country_Death', 'execution_time'],\n",
      "      dtype='object')\n"
     ]
    }
   ],
   "source": [
    "print(damage.columns)\n",
    "print(deaths_injuries.columns)\n"
   ]
  },
  {
   "cell_type": "code",
   "execution_count": 10,
   "metadata": {},
   "outputs": [],
   "source": [
    "events = pd.merge(left=damage,\n",
    "                          right=deaths_injuries,\n",
    "                          how=\"left\",\n",
    "                          left_on=\"Event_ID\",\n",
    "                          right_on=\"Event_ID\"\n",
    ")\n"
   ]
  },
  {
   "cell_type": "code",
   "execution_count": 13,
   "metadata": {},
   "outputs": [
    {
     "data": {
      "text/plain": [
       "['Country',\n",
       " 'Country_with_Annotation',\n",
       " 'End_Date',\n",
       " 'Event_ID',\n",
       " 'Event_Name_x',\n",
       " 'Event_Name_y',\n",
       " 'Main_Event',\n",
       " 'Main_Event_Assessment_With_Annotation',\n",
       " 'Source_x',\n",
       " 'Source_y',\n",
       " 'Specific_Instance_Per_Country_Damage',\n",
       " 'Specific_Instance_Per_Country_Death',\n",
       " 'Start_Date',\n",
       " 'Time_with_Annotation',\n",
       " 'Total_Summary_Damage',\n",
       " 'Total_Summary_Death',\n",
       " 'execution_time']"
      ]
     },
     "execution_count": 13,
     "metadata": {},
     "output_type": "execute_result"
    }
   ],
   "source": [
    "sorted(events.columns.to_list())"
   ]
  },
  {
   "cell_type": "code",
   "execution_count": 14,
   "metadata": {},
   "outputs": [],
   "source": [
    "col_order = [\n",
    "\n",
    " 'Event_ID',\n",
    " 'Event_Name',\n",
    " 'Main_Event',\n",
    " 'Main_Event_Assessment_With_Annotation',\n",
    " 'Country',\n",
    " 'Country_with_Annotation',\n",
    " 'Source',\n",
    " 'Specific_Instance_Per_Country_Death',\n",
    " 'Start_Date',\n",
    " 'End_Date',\n",
    " 'Time_with_Annotation',\n",
    " 'Total_Summary_Damage',\n",
    " 'Specific_Instance_Per_Country_Damage',\n",
    "\n",
    " 'Total_Summary_Death',\n",
    " 'Specific_Instance_Per_Country_Death',\n",
    "\n",
    " 'execution_time']"
   ]
  },
  {
   "cell_type": "code",
   "execution_count": 15,
   "metadata": {},
   "outputs": [],
   "source": [
    "events.rename(columns={\n",
    "    \"Event_Name_x\": \"Event_Name\",\n",
    "    \"Source_x\": \"Source\"\n",
    "}, inplace=True)\n",
    "events.drop(columns=[\"Event_Name_y\", \"Source_y\"], inplace=True)"
   ]
  },
  {
   "cell_type": "code",
   "execution_count": 19,
   "metadata": {},
   "outputs": [
    {
     "data": {
      "text/plain": [
       "Index(['Event_Name', 'Source', 'Event_ID', 'Total_Summary_Damage',\n",
       "       'Specific_Instance_Per_Country_Damage', 'Start_Date', 'End_Date',\n",
       "       'Time_with_Annotation', 'Main_Event',\n",
       "       'Main_Event_Assessment_With_Annotation', 'Country',\n",
       "       'Country_with_Annotation', 'Total_Summary_Death',\n",
       "       'Specific_Instance_Per_Country_Death', 'execution_time'],\n",
       "      dtype='object')"
      ]
     },
     "execution_count": 19,
     "metadata": {},
     "output_type": "execute_result"
    }
   ],
   "source": [
    "events.columns"
   ]
  },
  {
   "cell_type": "code",
   "execution_count": 20,
   "metadata": {},
   "outputs": [],
   "source": [
    "events.to_json(\"Database/raw/response_wiki_GPT4_0507_total_specific_deaths_damage_100events.json\", orient='records')"
   ]
  },
  {
   "cell_type": "code",
   "execution_count": null,
   "metadata": {},
   "outputs": [],
   "source": []
  }
 ],
 "metadata": {
  "kernelspec": {
   "display_name": "wikimpacts-1uvlbl-K-py3.11",
   "language": "python",
   "name": "python3"
  },
  "language_info": {
   "codemirror_mode": {
    "name": "ipython",
    "version": 3
   },
   "file_extension": ".py",
   "mimetype": "text/x-python",
   "name": "python",
   "nbconvert_exporter": "python",
   "pygments_lexer": "ipython3",
   "version": "3.11.8"
  }
 },
 "nbformat": 4,
 "nbformat_minor": 2
}
